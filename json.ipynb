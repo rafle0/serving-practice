{
 "cells": [
  {
   "cell_type": "code",
   "execution_count": 1,
   "id": "fb784160",
   "metadata": {},
   "outputs": [],
   "source": [
    "import numpy as np\n",
    "import random\n",
    "import os\n",
    "import json\n",
    "import requests\n",
    "from imutils import paths\n",
    "from PIL import Image\n",
    "from sklearn.preprocessing import LabelEncoder, OneHotEncoder\n",
    "from tensorflow.keras.utils import to_categorical"
   ]
  },
  {
   "cell_type": "code",
   "execution_count": 2,
   "id": "89b9d7f0",
   "metadata": {},
   "outputs": [
    {
     "name": "stderr",
     "output_type": "stream",
     "text": [
      "/tmp/ipykernel_2918/60280131.py:15: FutureWarning: The input object of type 'Image' is an array-like implementing one of the corresponding protocols (`__array__`, `__array_interface__` or `__array_struct__`); but not a sequence (or 0-D). In the future, this object will be coerced as if it was first converted using `np.array(obj)`. To retain the old behaviour, you have to either modify the type 'Image', or assign to an empty array created with `np.empty(correct_shape, dtype=object)`.\n",
      "  dataTest = np.array(dataTest)\n",
      "/tmp/ipykernel_2918/60280131.py:15: VisibleDeprecationWarning: Creating an ndarray from ragged nested sequences (which is a list-or-tuple of lists-or-tuples-or ndarrays with different lengths or shapes) is deprecated. If you meant to do this, you must specify 'dtype=object' when creating the ndarray.\n",
      "  dataTest = np.array(dataTest)\n"
     ]
    }
   ],
   "source": [
    "imagePathTest = \"./test\"\n",
    "imagePathsTest = list(paths.list_images(imagePathTest))\n",
    " \n",
    "dataTest = []\n",
    "labelsTest = []\n",
    " \n",
    "for imagePathTest in imagePathsTest:\n",
    "    labelTest = imagePathTest.split(os.path.sep)[-2]\n",
    "    imageTest = Image.open(imagePathTest)\n",
    "    imageTest = imageTest.resize((224, 224))\n",
    "    imageTest = imageTest.convert('RGB')\n",
    "    dataTest.append(imageTest)\n",
    "    labelsTest.append(labelTest)\n",
    "\n",
    "#(1, 224, 224, 3)\n",
    "dataTest = np.array(dataTest)\n",
    "labelsTest = np.array(labelsTest)\n",
    "label_encoder = LabelEncoder()\n",
    "integer_encoded = label_encoder.fit_transform(labelsTest)\n",
    "labelsTest = to_categorical(integer_encoded)"
   ]
  },
  {
   "cell_type": "code",
   "execution_count": 5,
   "id": "03d8e81b",
   "metadata": {},
   "outputs": [
    {
     "name": "stdout",
     "output_type": "stream",
     "text": [
      "Pick an image #1 with a label 'covid'.\n",
      "Pick an image #2 with a label 'covid'.\n",
      "Pick an image #3 with a label 'covid'.\n",
      "Pick an image #4 with a label 'covid'.\n",
      "Pick an image #5 with a label 'covid'.\n",
      "Pick an image #6 with a label 'covid'.\n",
      "Pick an image #7 with a label 'covid'.\n",
      "Pick an image #8 with a label 'covid'.\n",
      "Pick an image #9 with a label 'covid'.\n",
      "Pick an image #10 with a label 'normal'.\n",
      "Pick an image #11 with a label 'normal'.\n",
      "Pick an image #12 with a label 'normal'.\n",
      "Pick an image #13 with a label 'normal'.\n",
      "Pick an image #14 with a label 'normal'.\n",
      "Pick an image #15 with a label 'normal'.\n",
      "Pick an image #16 with a label 'normal'.\n",
      "Pick an image #17 with a label 'normal'.\n",
      "Pick an image #18 with a label 'normal'.\n",
      "Pick an image #19 with a label 'pneumonia_bac'.\n",
      "Pick an image #20 with a label 'pneumonia_bac'.\n",
      "Pick an image #21 with a label 'pneumonia_bac'.\n",
      "Pick an image #22 with a label 'pneumonia_bac'.\n",
      "Pick an image #23 with a label 'pneumonia_bac'.\n",
      "Pick an image #24 with a label 'pneumonia_bac'.\n",
      "Pick an image #25 with a label 'pneumonia_bac'.\n",
      "Pick an image #26 with a label 'pneumonia_bac'.\n",
      "Pick an image #27 with a label 'pneumonia_bac'.\n"
     ]
    }
   ],
   "source": [
    "for sample in range(len(dataTest)):\n",
    "    print(\"Pick an image #\", end ='')\n",
    "    print(sample+1, end='')\n",
    "    if sample // 9 == 0: print(' with a label \\'covid\\'.')\n",
    "    elif sample // 9 == 1: print(' with a label \\'normal\\'.')\n",
    "    elif sample // 9 == 2: print(' with a label \\'pneumonia_bac\\'.')\n",
    "    sample_test_data = dataTest[sample]\n",
    "    sample_test_labels = labelsTest[sample]\n",
    "    sample_test_data = np.expand_dims(sample_test_data, axis=0)\n",
    "    test_data = json.dumps({\"signature_name\": \"serving_default\",\n",
    "                       \"instances\": sample_test_data.tolist()})\n",
    "    with open(f\"./jsons/serving-image-{sample}.json\", \"w\") as text_file:\n",
    "        text_file.write(\"%s\" % test_data)"
   ]
  },
  {
   "cell_type": "code",
   "execution_count": null,
   "id": "d91270ec",
   "metadata": {},
   "outputs": [],
   "source": []
  }
 ],
 "metadata": {
  "kernelspec": {
   "display_name": "Python 3 (ipykernel)",
   "language": "python",
   "name": "python3"
  },
  "language_info": {
   "codemirror_mode": {
    "name": "ipython",
    "version": 3
   },
   "file_extension": ".py",
   "mimetype": "text/x-python",
   "name": "python",
   "nbconvert_exporter": "python",
   "pygments_lexer": "ipython3",
   "version": "3.8.10"
  }
 },
 "nbformat": 4,
 "nbformat_minor": 5
}
