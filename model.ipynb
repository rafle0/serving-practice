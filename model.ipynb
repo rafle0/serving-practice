{
 "cells": [
  {
   "cell_type": "code",
   "execution_count": 1,
   "id": "4503b6d9",
   "metadata": {},
   "outputs": [],
   "source": [
    "import os\n",
    "import random\n",
    "import numpy as np\n",
    "import tensorflow.keras as keras\n",
    "from tensorflow.keras.utils import Sequence\n",
    "from tensorflow.keras.models import save_model, Sequential\n",
    "from tensorflow.keras.applications import MobileNetV3Large\n",
    "from tensorflow.keras.layers import Conv2D\n",
    "from tensorflow.keras.layers import Dense, Flatten, BatchNormalization\n",
    "from tensorflow.keras.optimizers import Adam\n",
    "from PIL import Image\n",
    "from imutils import paths"
   ]
  },
  {
   "cell_type": "code",
   "execution_count": 2,
   "id": "a171f814",
   "metadata": {},
   "outputs": [],
   "source": [
    "class DataLoader(Sequence):\n",
    "    def __init__(self, file_path, batch_size):\n",
    "        super().__init__()\n",
    "        self.path = file_path\n",
    "        self.batch_size = batch_size\n",
    "        classes = set([])\n",
    "        for paths in file_path :\n",
    "            classes.add(paths.split('/')[-2]) ## labelled by last directory's name\n",
    "        self.classes = sorted(list(classes))\n",
    "        \n",
    "    def __len__(self):\n",
    "        return (len(self.path) + self.batch_size - 1)//self.batch_size\n",
    "    \n",
    "    def __getitem__(self, idx):\n",
    "        batch = self.path[idx*self.batch_size:(idx+1)*self.batch_size]\n",
    "        data = []\n",
    "        label = []\n",
    "        for b in batch:\n",
    "            img = Image.open(b)\n",
    "            img = img.convert('RGB').resize((224,224))\n",
    "            data.append(np.array(img))\n",
    "            img_class = np.zeros(len(self.classes))\n",
    "            img_class[self.classes.index(b.split('/')[-2])] += 1 ## one-hot encoding\n",
    "            label.append(img_class)\n",
    "            \n",
    "        return np.array(data), np.array(label)"
   ]
  },
  {
   "cell_type": "code",
   "execution_count": 3,
   "id": "cfaf453b",
   "metadata": {},
   "outputs": [],
   "source": [
    "train_path = \"./train\"\n",
    "test_path = \"./test\"\n",
    "train_file = list(paths.list_images(train_path))\n",
    "test_file = list(paths.list_images(test_path))"
   ]
  },
  {
   "cell_type": "code",
   "execution_count": 4,
   "id": "5ed2b4ec",
   "metadata": {},
   "outputs": [],
   "source": [
    "train_data = DataLoader(train_file, 16)\n",
    "test_data = DataLoader(test_file, 16)"
   ]
  },
  {
   "cell_type": "code",
   "execution_count": 5,
   "id": "113a2302",
   "metadata": {},
   "outputs": [
    {
     "name": "stderr",
     "output_type": "stream",
     "text": [
      "2022-10-11 06:40:30.987357: I tensorflow/stream_executor/cuda/cuda_gpu_executor.cc:936] successful NUMA node read from SysFS had negative value (-1), but there must be at least one NUMA node, so returning NUMA node zero\n",
      "2022-10-11 06:40:31.700431: I tensorflow/stream_executor/cuda/cuda_gpu_executor.cc:936] successful NUMA node read from SysFS had negative value (-1), but there must be at least one NUMA node, so returning NUMA node zero\n",
      "2022-10-11 06:40:31.701172: I tensorflow/stream_executor/cuda/cuda_gpu_executor.cc:936] successful NUMA node read from SysFS had negative value (-1), but there must be at least one NUMA node, so returning NUMA node zero\n",
      "2022-10-11 06:40:31.719035: I tensorflow/core/platform/cpu_feature_guard.cc:151] This TensorFlow binary is optimized with oneAPI Deep Neural Network Library (oneDNN) to use the following CPU instructions in performance-critical operations:  AVX2 FMA\n",
      "To enable them in other operations, rebuild TensorFlow with the appropriate compiler flags.\n",
      "2022-10-11 06:40:31.739688: I tensorflow/stream_executor/cuda/cuda_gpu_executor.cc:936] successful NUMA node read from SysFS had negative value (-1), but there must be at least one NUMA node, so returning NUMA node zero\n",
      "2022-10-11 06:40:31.740355: I tensorflow/stream_executor/cuda/cuda_gpu_executor.cc:936] successful NUMA node read from SysFS had negative value (-1), but there must be at least one NUMA node, so returning NUMA node zero\n",
      "2022-10-11 06:40:31.740943: I tensorflow/stream_executor/cuda/cuda_gpu_executor.cc:936] successful NUMA node read from SysFS had negative value (-1), but there must be at least one NUMA node, so returning NUMA node zero\n",
      "2022-10-11 06:40:37.889264: I tensorflow/stream_executor/cuda/cuda_gpu_executor.cc:936] successful NUMA node read from SysFS had negative value (-1), but there must be at least one NUMA node, so returning NUMA node zero\n",
      "2022-10-11 06:40:37.889969: I tensorflow/stream_executor/cuda/cuda_gpu_executor.cc:936] successful NUMA node read from SysFS had negative value (-1), but there must be at least one NUMA node, so returning NUMA node zero\n",
      "2022-10-11 06:40:37.890573: I tensorflow/stream_executor/cuda/cuda_gpu_executor.cc:936] successful NUMA node read from SysFS had negative value (-1), but there must be at least one NUMA node, so returning NUMA node zero\n",
      "2022-10-11 06:40:37.906187: I tensorflow/core/common_runtime/gpu/gpu_device.cc:1525] Created device /job:localhost/replica:0/task:0/device:GPU:0 with 13797 MB memory:  -> device: 0, name: Tesla T4, pci bus id: 0000:00:04.0, compute capability: 7.5\n"
     ]
    },
    {
     "name": "stdout",
     "output_type": "stream",
     "text": [
      "Downloading data from https://storage.googleapis.com/tensorflow/keras-applications/mobilenet_v3/weights_mobilenet_v3_large_224_1.0_float_no_top_v2.h5\n",
      "12689408/12683000 [==============================] - 0s 0us/step\n",
      "12697600/12683000 [==============================] - 0s 0us/step\n",
      "Model: \"sequential\"\n",
      "_________________________________________________________________\n",
      " Layer (type)                Output Shape              Param #   \n",
      "=================================================================\n",
      " MobilenetV3large (Functiona  (None, 7, 7, 960)        2996352   \n",
      " l)                                                              \n",
      "                                                                 \n",
      " batch_normalization (BatchN  (None, 7, 7, 960)        3840      \n",
      " ormalization)                                                   \n",
      "                                                                 \n",
      " flatten (Flatten)           (None, 47040)             0         \n",
      "                                                                 \n",
      " dense (Dense)               (None, 3)                 141123    \n",
      "                                                                 \n",
      "=================================================================\n",
      "Total params: 3,141,315\n",
      "Trainable params: 143,043\n",
      "Non-trainable params: 2,998,272\n",
      "_________________________________________________________________\n"
     ]
    }
   ],
   "source": [
    "model = Sequential()\n",
    "model.add(MobileNetV3Large(input_shape=(224, 224, 3),include_top=False, weights='imagenet',pooling='average'))\n",
    "\n",
    "for layer in model.layers:\n",
    "    layer.trainable = False\n",
    "\n",
    "model.add(BatchNormalization())\n",
    "model.add(Flatten())\n",
    "model.add(Dense(3, activation='softmax'))\n",
    "model.compile(loss='categorical_crossentropy', optimizer=Adam(learning_rate = 0.0001), metrics=['accuracy'])\n",
    "\n",
    "model.summary()"
   ]
  },
  {
   "cell_type": "code",
   "execution_count": 6,
   "id": "38ce6b22",
   "metadata": {},
   "outputs": [
    {
     "name": "stdout",
     "output_type": "stream",
     "text": [
      "Epoch 1/10\n"
     ]
    },
    {
     "name": "stderr",
     "output_type": "stream",
     "text": [
      "2022-10-11 06:41:14.061238: I tensorflow/stream_executor/cuda/cuda_dnn.cc:368] Loaded cuDNN version 8204\n",
      "2022-10-11 06:41:23.045430: I tensorflow/core/platform/default/subprocess.cc:304] Start cannot spawn child process: No such file or directory\n"
     ]
    },
    {
     "name": "stdout",
     "output_type": "stream",
     "text": [
      "13/13 [==============================] - 38s 622ms/step - loss: 1.1774 - accuracy: 0.5450 - val_loss: 0.3424 - val_accuracy: 0.8889\n",
      "Epoch 2/10\n",
      "13/13 [==============================] - 6s 488ms/step - loss: 0.1831 - accuracy: 0.9450 - val_loss: 0.3023 - val_accuracy: 0.8889\n",
      "Epoch 3/10\n",
      "13/13 [==============================] - 6s 468ms/step - loss: 0.0376 - accuracy: 0.9900 - val_loss: 0.2214 - val_accuracy: 0.9259\n",
      "Epoch 4/10\n",
      "13/13 [==============================] - 6s 451ms/step - loss: 0.0187 - accuracy: 1.0000 - val_loss: 0.2288 - val_accuracy: 0.9259\n",
      "Epoch 5/10\n",
      "13/13 [==============================] - 6s 488ms/step - loss: 0.0126 - accuracy: 1.0000 - val_loss: 0.2788 - val_accuracy: 0.8889\n",
      "Epoch 6/10\n",
      "13/13 [==============================] - 6s 483ms/step - loss: 0.0091 - accuracy: 1.0000 - val_loss: 0.2871 - val_accuracy: 0.8889\n",
      "Epoch 7/10\n",
      "13/13 [==============================] - 6s 468ms/step - loss: 0.0078 - accuracy: 1.0000 - val_loss: 0.2725 - val_accuracy: 0.8889\n",
      "Epoch 8/10\n",
      "13/13 [==============================] - 6s 464ms/step - loss: 0.0067 - accuracy: 1.0000 - val_loss: 0.2881 - val_accuracy: 0.8889\n",
      "Epoch 9/10\n",
      "13/13 [==============================] - 6s 487ms/step - loss: 0.0060 - accuracy: 1.0000 - val_loss: 0.2986 - val_accuracy: 0.8889\n",
      "Epoch 10/10\n",
      "13/13 [==============================] - 6s 485ms/step - loss: 0.0054 - accuracy: 1.0000 - val_loss: 0.2917 - val_accuracy: 0.8889\n"
     ]
    }
   ],
   "source": [
    "H = model.fit(train_data, validation_data=test_data, epochs=10)"
   ]
  },
  {
   "cell_type": "code",
   "execution_count": null,
   "id": "cf87bbc9",
   "metadata": {},
   "outputs": [],
   "source": [
    "save_model(model, \"./model/1\")"
   ]
  }
 ],
 "metadata": {
  "kernelspec": {
   "display_name": "Python 3 (ipykernel)",
   "language": "python",
   "name": "python3"
  },
  "language_info": {
   "codemirror_mode": {
    "name": "ipython",
    "version": 3
   },
   "file_extension": ".py",
   "mimetype": "text/x-python",
   "name": "python",
   "nbconvert_exporter": "python",
   "pygments_lexer": "ipython3",
   "version": "3.8.10"
  }
 },
 "nbformat": 4,
 "nbformat_minor": 5
}
